{
  "nbformat": 4,
  "nbformat_minor": 0,
  "metadata": {
    "colab": {
      "name": "MLProjectAutoML(NewData).ipynb",
      "provenance": [],
      "collapsed_sections": [],
      "machine_shape": "hm",
      "mount_file_id": "1VbUlxXMjiNiZEYpmtJCeAFjqTmgOpt2J",
      "authorship_tag": "ABX9TyNcPeNG1TjalSVZO6wu4IHz",
      "include_colab_link": true
    },
    "kernelspec": {
      "name": "python3",
      "display_name": "Python 3"
    },
    "accelerator": "GPU"
  },
  "cells": [
    {
      "cell_type": "markdown",
      "metadata": {
        "id": "view-in-github",
        "colab_type": "text"
      },
      "source": [
        "<a href=\"https://colab.research.google.com/github/Thunradee/COVID-19-Chest-X-Ray-Image-Classification/blob/main/AutoKeras.ipynb\" target=\"_parent\"><img src=\"https://colab.research.google.com/assets/colab-badge.svg\" alt=\"Open In Colab\"/></a>"
      ]
    },
    {
      "cell_type": "markdown",
      "metadata": {
        "id": "NiPvROEF_XnH"
      },
      "source": [
        "# Auto-Keras\r\n",
        "\r\n",
        "This file using Auto-Keras to classify COVID-19 from chest X-Ray images.\r\n",
        "I preselected the images and upload to Google Drive for convenience purposes.The images are from the following:\r\n",
        "\r\n",
        "\r\n",
        "*   https://github.com/ieee8023/covid-chestxray-dataset\r\n",
        "*   https://www.kaggle.com/andrewmvd/convid19-x-rays?select=xrays.csv.\r\n",
        "*   https://www.kaggle.com/paultimothymooney/chest-xray-pneumonia.\r\n",
        "\r\n"
      ]
    },
    {
      "cell_type": "markdown",
      "metadata": {
        "id": "2pUFM-Ee_pm2"
      },
      "source": [
        "## Install Packages"
      ]
    },
    {
      "cell_type": "code",
      "metadata": {
        "id": "a5GuYkZ4l_1c"
      },
      "source": [
        "pip install keras"
      ],
      "execution_count": null,
      "outputs": []
    },
    {
      "cell_type": "code",
      "metadata": {
        "id": "RJ_ZbBBUmHfF"
      },
      "source": [
        "pip install git+https://github.com/keras-team/keras-tuner.git@1.0.2rc1"
      ],
      "execution_count": null,
      "outputs": []
    },
    {
      "cell_type": "code",
      "metadata": {
        "id": "v38ZcE7-mJLZ"
      },
      "source": [
        "pip install autokeras"
      ],
      "execution_count": null,
      "outputs": []
    },
    {
      "cell_type": "code",
      "metadata": {
        "id": "4lxQ55zBmLB5"
      },
      "source": [
        "pip install tensorflow"
      ],
      "execution_count": null,
      "outputs": []
    },
    {
      "cell_type": "code",
      "metadata": {
        "id": "qcLTv0N8MO4z"
      },
      "source": [
        "pip install trains"
      ],
      "execution_count": null,
      "outputs": []
    },
    {
      "cell_type": "markdown",
      "metadata": {
        "id": "RMcn-FWU_wfH"
      },
      "source": [
        "## Program"
      ]
    },
    {
      "cell_type": "code",
      "metadata": {
        "id": "_O2KNMNVmakE"
      },
      "source": [
        "# Import libraries\n",
        "import matplotlib.pyplot as plt\n",
        "import numpy as np\n",
        "import keras\n",
        "import tensorflow as tf\n",
        "from keras import layers, models\n",
        "from keras.models import load_model\n",
        "from keras.preprocessing import image\n",
        "from autokeras import StructuredDataClassifier, ImageClassifier\n",
        "from sklearn.metrics import classification_report, plot_confusion_matrix\n",
        "import os\n",
        "from copy import deepcopy"
      ],
      "execution_count": null,
      "outputs": []
    },
    {
      "cell_type": "code",
      "metadata": {
        "colab": {
          "base_uri": "https://localhost:8080/"
        },
        "id": "GZp5siezmfT8",
        "outputId": "0e6f6734-9dfb-4410-a4bf-ff26a2158977"
      },
      "source": [
        "# Import images from file\n",
        "train_datagen = image.ImageDataGenerator(rescale = 1./255)\n",
        "test_datagen = image.ImageDataGenerator(rescale = 1./255)\n",
        "\n",
        "train = train_datagen.flow_from_directory(\n",
        "    'drive/MyDrive/CptS-570-ML/Dataset/Train',\n",
        "    target_size = (250, 250),\n",
        "    batch_size = 1016,\n",
        "    class_mode = 'binary'\n",
        ")\n",
        "\n",
        "test = test_datagen.flow_from_directory(\n",
        "    'drive/MyDrive/CptS-570-ML/Dataset/Test',\n",
        "    target_size = (250, 250),\n",
        "    batch_size = 252,\n",
        "    class_mode = 'binary'\n",
        ")"
      ],
      "execution_count": 6,
      "outputs": [
        {
          "output_type": "stream",
          "text": [
            "Found 1016 images belonging to 2 classes.\n",
            "Found 252 images belonging to 2 classes.\n"
          ],
          "name": "stdout"
        }
      ]
    },
    {
      "cell_type": "code",
      "metadata": {
        "id": "p1TU-I-DnOsM"
      },
      "source": [
        "# Extract data into X and y\n",
        "X_train, y_train = next(train)\n",
        "X_train = deepcopy(X_train)\n",
        "y_train = deepcopy(y_train)\n",
        "y_train = y_train.astype(int)\n",
        "\n",
        "X_test, y_test = next(test)\n",
        "X_test = deepcopy(X_test)\n",
        "y_test = deepcopy(y_test)\n",
        "y_test = y_test.astype(int)"
      ],
      "execution_count": 7,
      "outputs": []
    },
    {
      "cell_type": "code",
      "metadata": {
        "colab": {
          "base_uri": "https://localhost:8080/"
        },
        "id": "_DIOy-T5lBS3",
        "outputId": "f636814c-f06b-4bda-92cf-bff52b92d9b2"
      },
      "source": [
        "# Training\n",
        "# We limit max_trials and epochs due to the limitation of memory\n",
        "ak = ImageClassifier(overwrite=True, max_trials=30)\n",
        "ak.fit(x=X_train, y=y_train, epochs=100)"
      ],
      "execution_count": null,
      "outputs": [
        {
          "output_type": "stream",
          "text": [
            "Trial 30 Complete [00h 03m 19s]\n",
            "val_loss: 0.35257425904273987\n",
            "\n",
            "Best val_loss So Far: 0.3243141770362854\n",
            "Total elapsed time: 02h 36m 12s\n",
            "INFO:tensorflow:Oracle triggered exit\n",
            "Epoch 1/100\n",
            "Not enough memory, reduce batch size to 16.\n",
            "Epoch 1/100\n",
            "      2/Unknown - 0s 170ms/step - loss: 4.9872 - accuracy: 0.5000WARNING:tensorflow:Callbacks method `on_train_batch_end` is slow compared to the batch time (batch time: 0.0245s vs `on_train_batch_end` time: 0.1517s). Check your callbacks.\n",
            "64/64 [==============================] - 12s 192ms/step - loss: 0.7086 - accuracy: 0.7559\n",
            "Epoch 2/100\n",
            "64/64 [==============================] - 12s 191ms/step - loss: 0.2915 - accuracy: 0.8898\n",
            "Epoch 3/100\n",
            "64/64 [==============================] - 12s 192ms/step - loss: 0.1298 - accuracy: 0.9587\n",
            "Epoch 4/100\n",
            "64/64 [==============================] - 12s 191ms/step - loss: 0.0425 - accuracy: 0.9951\n",
            "Epoch 5/100\n",
            "64/64 [==============================] - 12s 191ms/step - loss: 0.0336 - accuracy: 0.9941\n",
            "Epoch 6/100\n",
            "64/64 [==============================] - 12s 192ms/step - loss: 0.0240 - accuracy: 0.9980\n",
            "Epoch 7/100\n",
            "64/64 [==============================] - 12s 191ms/step - loss: 0.0371 - accuracy: 0.9921\n",
            "Epoch 8/100\n",
            "64/64 [==============================] - 12s 192ms/step - loss: 0.0220 - accuracy: 0.9951\n",
            "Epoch 9/100\n",
            "64/64 [==============================] - 12s 192ms/step - loss: 0.0175 - accuracy: 0.9961\n",
            "Epoch 10/100\n",
            "64/64 [==============================] - 12s 192ms/step - loss: 0.0070 - accuracy: 1.0000\n",
            "Epoch 11/100\n",
            "64/64 [==============================] - 12s 191ms/step - loss: 0.0060 - accuracy: 0.9990\n",
            "Epoch 12/100\n",
            "64/64 [==============================] - 12s 192ms/step - loss: 8.2715e-04 - accuracy: 1.0000\n",
            "Epoch 13/100\n",
            "64/64 [==============================] - 12s 191ms/step - loss: 5.7388e-04 - accuracy: 1.0000\n",
            "Epoch 14/100\n",
            "64/64 [==============================] - 12s 191ms/step - loss: 4.0215e-04 - accuracy: 1.0000\n",
            "Epoch 15/100\n",
            "64/64 [==============================] - 12s 192ms/step - loss: 3.1260e-04 - accuracy: 1.0000\n",
            "Epoch 16/100\n",
            "64/64 [==============================] - 12s 191ms/step - loss: 2.5287e-04 - accuracy: 1.0000\n",
            "Epoch 17/100\n",
            "64/64 [==============================] - 12s 191ms/step - loss: 2.0319e-04 - accuracy: 1.0000\n",
            "Epoch 18/100\n",
            "64/64 [==============================] - 12s 192ms/step - loss: 1.7524e-04 - accuracy: 1.0000\n",
            "Epoch 19/100\n",
            "64/64 [==============================] - 12s 192ms/step - loss: 1.6156e-04 - accuracy: 1.0000\n",
            "Epoch 20/100\n",
            "64/64 [==============================] - 12s 191ms/step - loss: 1.3570e-04 - accuracy: 1.0000\n",
            "Epoch 21/100\n",
            "64/64 [==============================] - 12s 191ms/step - loss: 1.1961e-04 - accuracy: 1.0000\n",
            "Epoch 22/100\n",
            "64/64 [==============================] - 12s 191ms/step - loss: 1.0397e-04 - accuracy: 1.0000\n",
            "Epoch 23/100\n",
            "64/64 [==============================] - 12s 191ms/step - loss: 9.2199e-05 - accuracy: 1.0000\n",
            "Epoch 24/100\n",
            "64/64 [==============================] - 12s 191ms/step - loss: 8.4474e-05 - accuracy: 1.0000\n",
            "Epoch 25/100\n",
            "64/64 [==============================] - 12s 192ms/step - loss: 8.4262e-05 - accuracy: 1.0000\n",
            "Epoch 26/100\n",
            "64/64 [==============================] - 12s 191ms/step - loss: 7.3994e-05 - accuracy: 1.0000\n",
            "Epoch 27/100\n",
            "64/64 [==============================] - 12s 191ms/step - loss: 6.9554e-05 - accuracy: 1.0000\n",
            "Epoch 28/100\n",
            "64/64 [==============================] - 12s 193ms/step - loss: 6.3601e-05 - accuracy: 1.0000\n",
            "Epoch 29/100\n",
            "64/64 [==============================] - 12s 192ms/step - loss: 5.2807e-05 - accuracy: 1.0000\n",
            "Epoch 30/100\n",
            "64/64 [==============================] - 12s 192ms/step - loss: 5.4452e-05 - accuracy: 1.0000\n",
            "Epoch 31/100\n",
            "64/64 [==============================] - 12s 191ms/step - loss: 5.1235e-05 - accuracy: 1.0000\n",
            "Epoch 32/100\n",
            "64/64 [==============================] - 12s 191ms/step - loss: 4.5483e-05 - accuracy: 1.0000\n",
            "Epoch 33/100\n",
            "64/64 [==============================] - 12s 192ms/step - loss: 4.4401e-05 - accuracy: 1.0000\n",
            "Epoch 34/100\n",
            "64/64 [==============================] - 12s 191ms/step - loss: 4.0374e-05 - accuracy: 1.0000\n",
            "Epoch 35/100\n",
            "64/64 [==============================] - 12s 191ms/step - loss: 3.9375e-05 - accuracy: 1.0000\n",
            "Epoch 36/100\n",
            "64/64 [==============================] - 12s 192ms/step - loss: 3.6039e-05 - accuracy: 1.0000\n",
            "Epoch 37/100\n",
            "64/64 [==============================] - 12s 192ms/step - loss: 3.1875e-05 - accuracy: 1.0000\n",
            "Epoch 38/100\n",
            "64/64 [==============================] - 12s 191ms/step - loss: 3.1663e-05 - accuracy: 1.0000\n",
            "Epoch 39/100\n",
            "64/64 [==============================] - 12s 192ms/step - loss: 3.0274e-05 - accuracy: 1.0000\n",
            "Epoch 40/100\n",
            "64/64 [==============================] - 12s 191ms/step - loss: 2.8008e-05 - accuracy: 1.0000\n",
            "Epoch 41/100\n",
            "64/64 [==============================] - 12s 192ms/step - loss: 2.6098e-05 - accuracy: 1.0000\n",
            "Epoch 42/100\n",
            "64/64 [==============================] - 12s 192ms/step - loss: 2.4298e-05 - accuracy: 1.0000\n",
            "Epoch 43/100\n",
            "64/64 [==============================] - 12s 191ms/step - loss: 2.4240e-05 - accuracy: 1.0000\n",
            "Epoch 44/100\n",
            "64/64 [==============================] - 12s 192ms/step - loss: 2.2832e-05 - accuracy: 1.0000\n",
            "Epoch 45/100\n",
            "64/64 [==============================] - 12s 192ms/step - loss: 2.1123e-05 - accuracy: 1.0000\n",
            "Epoch 46/100\n",
            "64/64 [==============================] - 12s 192ms/step - loss: 1.9333e-05 - accuracy: 1.0000\n",
            "Epoch 47/100\n",
            "64/64 [==============================] - 12s 192ms/step - loss: 1.9160e-05 - accuracy: 1.0000\n",
            "Epoch 48/100\n",
            "64/64 [==============================] - 12s 191ms/step - loss: 1.8481e-05 - accuracy: 1.0000\n",
            "Epoch 49/100\n",
            "64/64 [==============================] - 12s 192ms/step - loss: 1.7460e-05 - accuracy: 1.0000\n",
            "Epoch 50/100\n",
            "64/64 [==============================] - 12s 193ms/step - loss: 1.7344e-05 - accuracy: 1.0000\n",
            "Epoch 51/100\n",
            "64/64 [==============================] - 12s 192ms/step - loss: 1.4102e-05 - accuracy: 1.0000\n",
            "Epoch 52/100\n",
            "64/64 [==============================] - 12s 192ms/step - loss: 1.4200e-05 - accuracy: 1.0000\n",
            "Epoch 53/100\n",
            "64/64 [==============================] - 12s 191ms/step - loss: 1.5376e-05 - accuracy: 1.0000\n",
            "Epoch 54/100\n",
            "64/64 [==============================] - 12s 192ms/step - loss: 1.3733e-05 - accuracy: 1.0000\n",
            "Epoch 55/100\n",
            "64/64 [==============================] - 12s 192ms/step - loss: 1.2361e-05 - accuracy: 1.0000\n",
            "Epoch 56/100\n",
            "64/64 [==============================] - 12s 191ms/step - loss: 1.1333e-05 - accuracy: 1.0000\n",
            "Epoch 57/100\n",
            "64/64 [==============================] - 12s 191ms/step - loss: 1.2581e-05 - accuracy: 1.0000\n",
            "Epoch 58/100\n",
            "64/64 [==============================] - 12s 192ms/step - loss: 1.2500e-05 - accuracy: 1.0000\n",
            "Epoch 59/100\n",
            "64/64 [==============================] - 12s 192ms/step - loss: 1.1494e-05 - accuracy: 1.0000\n",
            "Epoch 60/100\n",
            "64/64 [==============================] - 12s 191ms/step - loss: 9.8966e-06 - accuracy: 1.0000\n",
            "Epoch 61/100\n",
            "64/64 [==============================] - 12s 191ms/step - loss: 9.5180e-06 - accuracy: 1.0000\n",
            "Epoch 62/100\n",
            "64/64 [==============================] - 12s 192ms/step - loss: 9.7123e-06 - accuracy: 1.0000\n",
            "Epoch 63/100\n",
            "64/64 [==============================] - 12s 192ms/step - loss: 8.9131e-06 - accuracy: 1.0000\n",
            "Epoch 64/100\n",
            "64/64 [==============================] - 12s 192ms/step - loss: 8.6731e-06 - accuracy: 1.0000\n",
            "Epoch 65/100\n",
            "64/64 [==============================] - 12s 191ms/step - loss: 8.0640e-06 - accuracy: 1.0000\n",
            "Epoch 66/100\n",
            "64/64 [==============================] - 12s 191ms/step - loss: 7.7829e-06 - accuracy: 1.0000\n",
            "Epoch 67/100\n",
            "64/64 [==============================] - 12s 191ms/step - loss: 7.5032e-06 - accuracy: 1.0000\n",
            "Epoch 68/100\n",
            "64/64 [==============================] - 12s 192ms/step - loss: 7.2896e-06 - accuracy: 1.0000\n",
            "Epoch 69/100\n",
            "64/64 [==============================] - 12s 192ms/step - loss: 7.5205e-06 - accuracy: 1.0000\n",
            "Epoch 70/100\n",
            "64/64 [==============================] - 12s 192ms/step - loss: 6.7040e-06 - accuracy: 1.0000\n",
            "Epoch 71/100\n",
            "64/64 [==============================] - 12s 192ms/step - loss: 6.4965e-06 - accuracy: 1.0000\n",
            "Epoch 72/100\n",
            "64/64 [==============================] - 12s 192ms/step - loss: 6.0182e-06 - accuracy: 1.0000\n",
            "Epoch 73/100\n",
            "64/64 [==============================] - 12s 192ms/step - loss: 5.7129e-06 - accuracy: 1.0000\n",
            "Epoch 74/100\n",
            "64/64 [==============================] - 12s 191ms/step - loss: 5.6614e-06 - accuracy: 1.0000\n",
            "Epoch 75/100\n",
            "64/64 [==============================] - 12s 192ms/step - loss: 5.3458e-06 - accuracy: 1.0000\n",
            "Epoch 76/100\n",
            "64/64 [==============================] - 12s 192ms/step - loss: 5.5770e-06 - accuracy: 1.0000\n",
            "Epoch 77/100\n",
            "64/64 [==============================] - 12s 192ms/step - loss: 5.3596e-06 - accuracy: 1.0000\n",
            "Epoch 78/100\n",
            "64/64 [==============================] - 12s 191ms/step - loss: 4.6642e-06 - accuracy: 1.0000\n",
            "Epoch 79/100\n",
            "64/64 [==============================] - 12s 192ms/step - loss: 4.7761e-06 - accuracy: 1.0000\n",
            "Epoch 80/100\n",
            "64/64 [==============================] - 12s 192ms/step - loss: 4.8612e-06 - accuracy: 1.0000\n",
            "Epoch 81/100\n",
            "64/64 [==============================] - 12s 192ms/step - loss: 4.8129e-06 - accuracy: 1.0000\n",
            "Epoch 82/100\n",
            "64/64 [==============================] - 12s 192ms/step - loss: 4.1764e-06 - accuracy: 1.0000\n",
            "Epoch 83/100\n",
            "64/64 [==============================] - 12s 192ms/step - loss: 4.0944e-06 - accuracy: 1.0000\n",
            "Epoch 84/100\n",
            "64/64 [==============================] - 12s 192ms/step - loss: 3.7278e-06 - accuracy: 1.0000\n",
            "Epoch 85/100\n",
            "64/64 [==============================] - 12s 191ms/step - loss: 3.7210e-06 - accuracy: 1.0000\n",
            "Epoch 86/100\n",
            "64/64 [==============================] - 12s 191ms/step - loss: 3.7784e-06 - accuracy: 1.0000\n",
            "Epoch 87/100\n",
            "64/64 [==============================] - 12s 192ms/step - loss: 3.5311e-06 - accuracy: 1.0000\n",
            "Epoch 88/100\n",
            "64/64 [==============================] - 12s 192ms/step - loss: 3.1896e-06 - accuracy: 1.0000\n",
            "Epoch 89/100\n",
            "64/64 [==============================] - 12s 192ms/step - loss: 3.2650e-06 - accuracy: 1.0000\n",
            "Epoch 90/100\n",
            "64/64 [==============================] - 12s 192ms/step - loss: 3.0576e-06 - accuracy: 1.0000\n",
            "Epoch 91/100\n",
            "64/64 [==============================] - 12s 192ms/step - loss: 2.9997e-06 - accuracy: 1.0000\n",
            "Epoch 92/100\n",
            "64/64 [==============================] - 12s 192ms/step - loss: 2.8989e-06 - accuracy: 1.0000\n",
            "Epoch 93/100\n",
            "64/64 [==============================] - 12s 192ms/step - loss: 2.6814e-06 - accuracy: 1.0000\n",
            "Epoch 94/100\n",
            "64/64 [==============================] - 12s 192ms/step - loss: 2.7444e-06 - accuracy: 1.0000\n",
            "Epoch 95/100\n",
            "64/64 [==============================] - 12s 192ms/step - loss: 2.4108e-06 - accuracy: 1.0000\n",
            "Epoch 96/100\n",
            "64/64 [==============================] - 12s 192ms/step - loss: 2.3929e-06 - accuracy: 1.0000\n",
            "Epoch 97/100\n",
            "64/64 [==============================] - 12s 192ms/step - loss: 2.4024e-06 - accuracy: 1.0000\n",
            "Epoch 98/100\n",
            "64/64 [==============================] - 12s 192ms/step - loss: 2.2584e-06 - accuracy: 1.0000\n",
            "Epoch 99/100\n",
            "64/64 [==============================] - 12s 191ms/step - loss: 2.2433e-06 - accuracy: 1.0000\n",
            "Epoch 100/100\n",
            "64/64 [==============================] - 12s 192ms/step - loss: 1.9996e-06 - accuracy: 1.0000\n",
            "INFO:tensorflow:Assets written to: ./image_classifier/best_model/assets\n"
          ],
          "name": "stdout"
        }
      ]
    },
    {
      "cell_type": "code",
      "metadata": {
        "colab": {
          "base_uri": "https://localhost:8080/"
        },
        "id": "6g0UUGTHlGhH",
        "outputId": "b6c36a1c-391d-44e3-b4d7-8dc213993adb"
      },
      "source": [
        "# Evaluate the model\n",
        "ak.evaluate(X_test, y_test)"
      ],
      "execution_count": null,
      "outputs": [
        {
          "output_type": "stream",
          "text": [
            "8/8 [==============================] - 0s 38ms/step - loss: 0.5895 - accuracy: 0.8810\n"
          ],
          "name": "stdout"
        },
        {
          "output_type": "execute_result",
          "data": {
            "text/plain": [
              "[0.5894883871078491, 0.8809523582458496]"
            ]
          },
          "metadata": {
            "tags": []
          },
          "execution_count": 25
        }
      ]
    },
    {
      "cell_type": "code",
      "metadata": {
        "colab": {
          "base_uri": "https://localhost:8080/"
        },
        "id": "-2teWM8ClMTj",
        "outputId": "439373a8-9385-49af-d14e-24fcc3fd9e92"
      },
      "source": [
        "# Export the best performing model\n",
        "model = ak.export_model()\n",
        "\n",
        "# summarize the model\n",
        "model.summary()"
      ],
      "execution_count": null,
      "outputs": [
        {
          "output_type": "stream",
          "text": [
            "Model: \"functional_1\"\n",
            "_________________________________________________________________\n",
            "Layer (type)                 Output Shape              Param #   \n",
            "=================================================================\n",
            "input_1 (InputLayer)         [(None, 250, 250, 3)]     0         \n",
            "_________________________________________________________________\n",
            "cast_to_float32 (CastToFloat (None, 250, 250, 3)       0         \n",
            "_________________________________________________________________\n",
            "normalization (Normalization (None, 250, 250, 3)       7         \n",
            "_________________________________________________________________\n",
            "separable_conv2d (SeparableC (None, 248, 248, 32)      155       \n",
            "_________________________________________________________________\n",
            "separable_conv2d_1 (Separabl (None, 246, 246, 64)      2400      \n",
            "_________________________________________________________________\n",
            "dropout (Dropout)            (None, 246, 246, 64)      0         \n",
            "_________________________________________________________________\n",
            "flatten (Flatten)            (None, 3873024)           0         \n",
            "_________________________________________________________________\n",
            "dropout_1 (Dropout)          (None, 3873024)           0         \n",
            "_________________________________________________________________\n",
            "dense (Dense)                (None, 1)                 3873025   \n",
            "_________________________________________________________________\n",
            "classification_head_1 (Activ (None, 1)                 0         \n",
            "=================================================================\n",
            "Total params: 3,875,587\n",
            "Trainable params: 3,875,580\n",
            "Non-trainable params: 7\n",
            "_________________________________________________________________\n"
          ],
          "name": "stdout"
        }
      ]
    },
    {
      "cell_type": "code",
      "metadata": {
        "colab": {
          "base_uri": "https://localhost:8080/"
        },
        "id": "7WxAHImvlPKq",
        "outputId": "273cec5f-bd16-4d32-f1c3-d335b39db443"
      },
      "source": [
        "# Save model\n",
        "model.save(\"drive/MyDrive/CptS-570-ML/model_autokeras7\", save_format=\"tf\")"
      ],
      "execution_count": null,
      "outputs": [
        {
          "output_type": "stream",
          "text": [
            "INFO:tensorflow:Assets written to: drive/MyDrive/CptS-570-ML/model_autokeras7/assets\n"
          ],
          "name": "stdout"
        }
      ]
    },
    {
      "cell_type": "code",
      "metadata": {
        "id": "xei8cC-nlTK5"
      },
      "source": [
        "# The prediction are float and in an array\n",
        "# So we convert it to a list of integers\n",
        "preds = model.predict(X_test)\n",
        "preds = np.rint(preds).astype(int)\n",
        "preds = [p[0] for p in preds]"
      ],
      "execution_count": null,
      "outputs": []
    },
    {
      "cell_type": "code",
      "metadata": {
        "colab": {
          "base_uri": "https://localhost:8080/"
        },
        "id": "RdnZCXJSlcy_",
        "outputId": "6f21e88c-a4f0-4aa8-80b2-7bae44f126b2"
      },
      "source": [
        "# Calculate scores\n",
        "report = classification_report(y_test, preds, target_names=['Negative', 'Positive'])\n",
        "print(report)"
      ],
      "execution_count": null,
      "outputs": [
        {
          "output_type": "stream",
          "text": [
            "              precision    recall  f1-score   support\n",
            "\n",
            "    Negative       0.89      0.87      0.88       126\n",
            "    Positive       0.88      0.89      0.88       126\n",
            "\n",
            "    accuracy                           0.88       252\n",
            "   macro avg       0.88      0.88      0.88       252\n",
            "weighted avg       0.88      0.88      0.88       252\n",
            "\n"
          ],
          "name": "stdout"
        }
      ]
    },
    {
      "cell_type": "code",
      "metadata": {
        "colab": {
          "base_uri": "https://localhost:8080/"
        },
        "id": "kx-vFq0imz_f",
        "outputId": "c33c19c4-6dd0-487f-a6b7-611766856983"
      },
      "source": [
        "# Confusion matrix\n",
        "cm = tf.math.confusion_matrix(y_test, preds)\n",
        "print(cm)"
      ],
      "execution_count": null,
      "outputs": [
        {
          "output_type": "stream",
          "text": [
            "tf.Tensor(\n",
            "[[110  16]\n",
            " [ 14 112]], shape=(2, 2), dtype=int32)\n"
          ],
          "name": "stdout"
        }
      ]
    },
    {
      "cell_type": "code",
      "metadata": {
        "colab": {
          "base_uri": "https://localhost:8080/"
        },
        "id": "e1pZtwgrncJs",
        "outputId": "f4c78b33-c530-4404-b912-fd6f05bec659"
      },
      "source": [
        "# Calculate precision, recall and f-measure scores\n",
        "\n",
        "TN = 110\n",
        "FP = 16\n",
        "FN = 14\n",
        "TP = 112\n",
        "\n",
        "ak_precision = TP/(TP+FP)\n",
        "ak_recall = TP/(TP+FN)\n",
        "ak_f = 2*(ak_precision*ak_recall)/(ak_precision+ak_recall)\n",
        "\n",
        "print(\"Precision: {}\".format(ak_precision))\n",
        "print(\"Recall: {}\".format(ak_recall))\n",
        "print(\"F-measure: {}\".format(ak_f))"
      ],
      "execution_count": null,
      "outputs": [
        {
          "output_type": "stream",
          "text": [
            "Precision: 0.875\n",
            "Recall: 0.8888888888888888\n",
            "F-measure: 0.8818897637795274\n"
          ],
          "name": "stdout"
        }
      ]
    }
  ]
}