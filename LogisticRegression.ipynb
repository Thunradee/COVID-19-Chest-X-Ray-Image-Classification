{
  "nbformat": 4,
  "nbformat_minor": 0,
  "metadata": {
    "colab": {
      "name": "MLProjectLR.ipynb",
      "provenance": [],
      "collapsed_sections": [],
      "mount_file_id": "1jqv-oAcl0Shxf61YrMly7VuaUNVSgxjB",
      "authorship_tag": "ABX9TyP8T7SOWeo6ut+s7VWOEH5E",
      "include_colab_link": true
    },
    "kernelspec": {
      "name": "python3",
      "display_name": "Python 3"
    }
  },
  "cells": [
    {
      "cell_type": "markdown",
      "metadata": {
        "id": "view-in-github",
        "colab_type": "text"
      },
      "source": [
        "<a href=\"https://colab.research.google.com/github/Thunradee/COVID-19-Chest-X-Ray-Image-Classification/blob/main/LogisticRegression.ipynb\" target=\"_parent\"><img src=\"https://colab.research.google.com/assets/colab-badge.svg\" alt=\"Open In Colab\"/></a>"
      ]
    },
    {
      "cell_type": "markdown",
      "metadata": {
        "id": "WKE9illxLh7z"
      },
      "source": [
        "# Logistic Regression\n",
        "\n",
        "This file using Logistic Regression to classify COVID-19 from chest X-Ray images.\n",
        "I preselected the images and upload to Google Drive for convenience purposes.The images are from the following:\n",
        "\n",
        "\n",
        "*   https://github.com/ieee8023/covid-chestxray-dataset\n",
        "*   https://www.kaggle.com/andrewmvd/convid19-x-rays?select=xrays.csv.\n",
        "*   https://www.kaggle.com/paultimothymooney/chest-xray-pneumonia.\n",
        "\n",
        "\n",
        "\n",
        "\n"
      ]
    },
    {
      "cell_type": "code",
      "metadata": {
        "colab": {
          "base_uri": "https://localhost:8080/"
        },
        "id": "Xfm_xBHGseWd",
        "outputId": "493c1612-d486-4de6-a3e7-fdea66d62f9b"
      },
      "source": [
        "# Install Keras\n",
        "!pip install keras"
      ],
      "execution_count": 2,
      "outputs": [
        {
          "output_type": "stream",
          "text": [
            "Requirement already satisfied: keras in /usr/local/lib/python3.6/dist-packages (2.4.3)\n",
            "Requirement already satisfied: pyyaml in /usr/local/lib/python3.6/dist-packages (from keras) (3.13)\n",
            "Requirement already satisfied: scipy>=0.14 in /usr/local/lib/python3.6/dist-packages (from keras) (1.4.1)\n",
            "Requirement already satisfied: numpy>=1.9.1 in /usr/local/lib/python3.6/dist-packages (from keras) (1.18.5)\n",
            "Requirement already satisfied: h5py in /usr/local/lib/python3.6/dist-packages (from keras) (2.10.0)\n",
            "Requirement already satisfied: six in /usr/local/lib/python3.6/dist-packages (from h5py->keras) (1.15.0)\n"
          ],
          "name": "stdout"
        }
      ]
    },
    {
      "cell_type": "code",
      "metadata": {
        "id": "b3N7JLWOsksN"
      },
      "source": [
        "# Import libraries\n",
        "import matplotlib.pyplot as plt\n",
        "import numpy as np\n",
        "from sklearn.linear_model import LogisticRegression\n",
        "from keras.preprocessing import image\n",
        "from sklearn.metrics import classification_report, plot_confusion_matrix\n",
        "from copy import deepcopy\n",
        "import cv2"
      ],
      "execution_count": 9,
      "outputs": []
    },
    {
      "cell_type": "code",
      "metadata": {
        "colab": {
          "base_uri": "https://localhost:8080/"
        },
        "id": "Kgrn-A8zsy64",
        "outputId": "7000fcff-2cb0-41c3-e0de-171ac9bf472f"
      },
      "source": [
        "# Import images from file\n",
        "train_datagen = image.ImageDataGenerator()\n",
        "test_datagen = image.ImageDataGenerator()\n",
        "\n",
        "train = train_datagen.flow_from_directory(\n",
        "    'drive/MyDrive/CptS-570-ML/Dataset/Train',\n",
        "    target_size = (250, 250),\n",
        "    batch_size = 1016,\n",
        "    class_mode = 'binary'\n",
        ")\n",
        "\n",
        "test = test_datagen.flow_from_directory(\n",
        "    'drive/MyDrive/CptS-570-ML/Dataset/Test',\n",
        "    target_size = (250, 250),\n",
        "    batch_size = 300,\n",
        "    class_mode = 'binary'\n",
        ")"
      ],
      "execution_count": 4,
      "outputs": [
        {
          "output_type": "stream",
          "text": [
            "Found 1016 images belonging to 2 classes.\n",
            "Found 252 images belonging to 2 classes.\n"
          ],
          "name": "stdout"
        }
      ]
    },
    {
      "cell_type": "code",
      "metadata": {
        "id": "CsCyWNQUtdNH",
        "colab": {
          "base_uri": "https://localhost:8080/"
        },
        "outputId": "bbce80b3-1241-4b49-8570-4fe56ab22b65"
      },
      "source": [
        "# Check class labels\n",
        "train.class_indices"
      ],
      "execution_count": 5,
      "outputs": [
        {
          "output_type": "execute_result",
          "data": {
            "text/plain": [
              "{'Negative': 0, 'Positive': 1}"
            ]
          },
          "metadata": {
            "tags": []
          },
          "execution_count": 5
        }
      ]
    },
    {
      "cell_type": "code",
      "metadata": {
        "id": "6Bw1d5Lnsz_-"
      },
      "source": [
        "# Extract data into X and y\n",
        "X_train, y_train = next(train)\n",
        "X_train = deepcopy(X_train)\n",
        "y_train = deepcopy(y_train)\n",
        "y_train = y_train.astype(int)\n",
        "\n",
        "X_test, y_test = next(test)\n",
        "X_test = deepcopy(X_test)\n",
        "y_test = deepcopy(y_test)\n",
        "y_test = y_test.astype(int)"
      ],
      "execution_count": 6,
      "outputs": []
    },
    {
      "cell_type": "code",
      "metadata": {
        "id": "6yYW-ggss64o"
      },
      "source": [
        "# Processing data into useable format\n",
        "def image_processing(images):\n",
        "    row = images[0].shape[0]\n",
        "    col = images[0].shape[1]\n",
        "    n = len(images)\n",
        "    flat = np.zeros((n, row*col), dtype=float)\n",
        "    for i, im in enumerate(images):\n",
        "        x = cv2.cvtColor(im, cv2.COLOR_BGR2GRAY) # convert RGB to grey scale\n",
        "        x = x.flatten() # flatten 2d array to 1d array\n",
        "        x = x / 255.0 # normalize\n",
        "        flat[i] = x\n",
        "    return flat"
      ],
      "execution_count": 7,
      "outputs": []
    },
    {
      "cell_type": "code",
      "metadata": {
        "id": "HKO8JLmDtAhl"
      },
      "source": [
        "X_train2 = image_processing(X_train)\n",
        "X_test2 = image_processing(X_test)"
      ],
      "execution_count": 10,
      "outputs": []
    },
    {
      "cell_type": "code",
      "metadata": {
        "colab": {
          "base_uri": "https://localhost:8080/"
        },
        "id": "StRMBRlatCr0",
        "outputId": "7dfc9c33-292e-41b9-da73-2b3ddc44e8d5"
      },
      "source": [
        "# Train classifier\n",
        "clf = LogisticRegression()\n",
        "%time clf.fit(X_train2, y_train)"
      ],
      "execution_count": 11,
      "outputs": [
        {
          "output_type": "stream",
          "text": [
            "CPU times: user 20.2 s, sys: 1.56 s, total: 21.8 s\n",
            "Wall time: 11.2 s\n"
          ],
          "name": "stdout"
        },
        {
          "output_type": "stream",
          "text": [
            "/usr/local/lib/python3.6/dist-packages/sklearn/linear_model/_logistic.py:940: ConvergenceWarning: lbfgs failed to converge (status=1):\n",
            "STOP: TOTAL NO. of ITERATIONS REACHED LIMIT.\n",
            "\n",
            "Increase the number of iterations (max_iter) or scale the data as shown in:\n",
            "    https://scikit-learn.org/stable/modules/preprocessing.html\n",
            "Please also refer to the documentation for alternative solver options:\n",
            "    https://scikit-learn.org/stable/modules/linear_model.html#logistic-regression\n",
            "  extra_warning_msg=_LOGISTIC_SOLVER_CONVERGENCE_MSG)\n"
          ],
          "name": "stderr"
        },
        {
          "output_type": "execute_result",
          "data": {
            "text/plain": [
              "LogisticRegression(C=1.0, class_weight=None, dual=False, fit_intercept=True,\n",
              "                   intercept_scaling=1, l1_ratio=None, max_iter=100,\n",
              "                   multi_class='auto', n_jobs=None, penalty='l2',\n",
              "                   random_state=None, solver='lbfgs', tol=0.0001, verbose=0,\n",
              "                   warm_start=False)"
            ]
          },
          "metadata": {
            "tags": []
          },
          "execution_count": 11
        }
      ]
    },
    {
      "cell_type": "code",
      "metadata": {
        "id": "fuTFkF0stLym"
      },
      "source": [
        "# Predict\n",
        "pred = clf.predict(X_test2)"
      ],
      "execution_count": null,
      "outputs": []
    },
    {
      "cell_type": "code",
      "metadata": {
        "id": "EglulMbetQk-"
      },
      "source": [
        "# Claculate scores\n",
        "acc = clf.score(X_test2, y_test)\n",
        "report = classification_report(y_test, pred, target_names=['Negative', 'Positive'])"
      ],
      "execution_count": null,
      "outputs": []
    },
    {
      "cell_type": "code",
      "metadata": {
        "colab": {
          "base_uri": "https://localhost:8080/"
        },
        "id": "rjPBUrnQtXeC",
        "outputId": "df0e92ef-bb6d-4bb0-d140-e9bf061672cc"
      },
      "source": [
        "print(acc)\n",
        "print(report)"
      ],
      "execution_count": null,
      "outputs": [
        {
          "output_type": "stream",
          "text": [
            "0.7658730158730159\n",
            "              precision    recall  f1-score   support\n",
            "\n",
            "    Negative       0.76      0.78      0.77       126\n",
            "    Positive       0.77      0.75      0.76       126\n",
            "\n",
            "    accuracy                           0.77       252\n",
            "   macro avg       0.77      0.77      0.77       252\n",
            "weighted avg       0.77      0.77      0.77       252\n",
            "\n"
          ],
          "name": "stdout"
        }
      ]
    },
    {
      "cell_type": "code",
      "metadata": {
        "colab": {
          "base_uri": "https://localhost:8080/",
          "height": 279
        },
        "id": "yzdFVbl4yLE9",
        "outputId": "5f683e81-0b00-4bca-c8ac-5e12a8caa264"
      },
      "source": [
        "# Confusion matrix\n",
        "disp = plot_confusion_matrix(clf, X_test2, y_test, display_labels=['Negative', 'Positive'],cmap=plt.cm.Blues,normalize=None)"
      ],
      "execution_count": null,
      "outputs": [
        {
          "output_type": "display_data",
          "data": {
            "image/png": "[encoded data removed]",
            "text/plain": [
              "<Figure size 432x288 with 2 Axes>"
            ]
          },
          "metadata": {
            "tags": [],
            "needs_background": "light"
          }
        }
      ]
    },
    {
      "cell_type": "code",
      "metadata": {
        "colab": {
          "base_uri": "https://localhost:8080/"
        },
        "id": "Mz7Dv3H1vz9e",
        "outputId": "0c89aeb7-114d-4421-efe5-d1d2598759be"
      },
      "source": [
        "# Calculate precision, recall and f-measure scores\n",
        "\n",
        "TN = 98\n",
        "FP = 28\n",
        "FN = 31\n",
        "TP = 95\n",
        "\n",
        "precision = TP/(TP+FP)\n",
        "recall = TP/(TP+FN)\n",
        "f = 2*(precision*recall)/(precision+recall)\n",
        "\n",
        "print(\"Precision: {}\".format(precision))\n",
        "print(\"Recall: {}\".format(recall))\n",
        "print(\"F-measure: {}\".format(f))"
      ],
      "execution_count": null,
      "outputs": [
        {
          "output_type": "stream",
          "text": [
            "Precision: 0.7723577235772358\n",
            "Recall: 0.753968253968254\n",
            "F-measure: 0.7630522088353413\n"
          ],
          "name": "stdout"
        }
      ]
    }
  ]
}